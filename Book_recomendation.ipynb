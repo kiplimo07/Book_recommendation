{
  "nbformat": 4,
  "nbformat_minor": 0,
  "metadata": {
    "colab": {
      "provenance": [],
      "authorship_tag": "ABX9TyPrSzXf/gJdOBJUJ2ILqYPw",
      "include_colab_link": true
    },
    "kernelspec": {
      "name": "python3",
      "display_name": "Python 3"
    },
    "language_info": {
      "name": "python"
    }
  },
  "cells": [
    {
      "cell_type": "markdown",
      "metadata": {
        "id": "view-in-github",
        "colab_type": "text"
      },
      "source": [
        "<a href=\"https://colab.research.google.com/github/kiplimo07/Book_recommendation/blob/main/Book_recomendation.ipynb\" target=\"_parent\"><img src=\"https://colab.research.google.com/assets/colab-badge.svg\" alt=\"Open In Colab\"/></a>"
      ]
    },
    {
      "cell_type": "code",
      "execution_count": 1,
      "metadata": {
        "id": "uP8-cwoUJFqe"
      },
      "outputs": [],
      "source": [
        "# import libraries (you may add additional imports but you may not have to)\n",
        "import numpy as np\n",
        "import pandas as pd\n",
        "from scipy.sparse import csr_matrix\n",
        "from sklearn.neighbors import NearestNeighbors\n",
        "import matplotlib.pyplot as plt"
      ]
    },
    {
      "cell_type": "code",
      "source": [
        "# get data files\n",
        "!wget https://cdn.freecodecamp.org/project-data/books/book-crossings.zip\n",
        "\n",
        "!unzip book-crossings.zip\n",
        "\n",
        "books_filename = 'BX-Books.csv'\n",
        "ratings_filename = 'BX-Book-Ratings.csv'"
      ],
      "metadata": {
        "colab": {
          "base_uri": "https://localhost:8080/"
        },
        "collapsed": true,
        "id": "7PbeG0xiJNio",
        "outputId": "baac9811-b5a3-408d-a292-b5ff8034de7b"
      },
      "execution_count": 2,
      "outputs": [
        {
          "output_type": "stream",
          "name": "stdout",
          "text": [
            "--2024-07-27 12:24:00--  https://cdn.freecodecamp.org/project-data/books/book-crossings.zip\n",
            "Resolving cdn.freecodecamp.org (cdn.freecodecamp.org)... 172.67.70.149, 104.26.2.33, 104.26.3.33, ...\n",
            "Connecting to cdn.freecodecamp.org (cdn.freecodecamp.org)|172.67.70.149|:443... connected.\n",
            "HTTP request sent, awaiting response... 200 OK\n",
            "Length: 26085508 (25M) [application/zip]\n",
            "Saving to: ‘book-crossings.zip’\n",
            "\n",
            "book-crossings.zip  100%[===================>]  24.88M   104MB/s    in 0.2s    \n",
            "\n",
            "2024-07-27 12:24:01 (104 MB/s) - ‘book-crossings.zip’ saved [26085508/26085508]\n",
            "\n",
            "Archive:  book-crossings.zip\n",
            "  inflating: BX-Book-Ratings.csv     \n",
            "  inflating: BX-Books.csv            \n",
            "  inflating: BX-Users.csv            \n"
          ]
        }
      ]
    },
    {
      "cell_type": "code",
      "source": [
        "# import csv data into dataframes\n",
        "df_books = pd.read_csv(\n",
        "    books_filename,\n",
        "    encoding = \"ISO-8859-1\",\n",
        "    sep=\";\",\n",
        "    header=0,\n",
        "    names=['isbn', 'title', 'author'],\n",
        "    usecols=['isbn', 'title', 'author'],\n",
        "    dtype={'isbn': 'str', 'title': 'str', 'author': 'str'})\n",
        "\n",
        "df_ratings = pd.read_csv(\n",
        "    ratings_filename,\n",
        "    encoding = \"ISO-8859-1\",\n",
        "    sep=\";\",\n",
        "    header=0,\n",
        "    names=['user', 'isbn', 'rating'],\n",
        "    usecols=['user', 'isbn', 'rating'],\n",
        "    dtype={'user': 'int32', 'isbn': 'str', 'rating': 'float32'})"
      ],
      "metadata": {
        "id": "Fij1lZjbJUu8"
      },
      "execution_count": 3,
      "outputs": []
    },
    {
      "cell_type": "code",
      "source": [
        "# add your code here - consider creating a new cell for each section of code\n",
        "df = df_ratings\n",
        "df.dropna(inplace=True)\n",
        "df = df[df['isbn'].isin(df_books['isbn'])]\n",
        "df_ratingCount = (df.\n",
        "     groupby(by = ['isbn'])['rating'].\n",
        "     count().\n",
        "     reset_index().\n",
        "     rename(columns = {'rating': 'totalRatingCount'})\n",
        "     [['isbn', 'totalRatingCount']]\n",
        "    )\n",
        "rating_with_totalRatingCount = df.merge(df_ratingCount, left_on = 'isbn', right_on = 'isbn', how = 'left')\n",
        "popularity_threshold = 50\n",
        "rating_popular_book = rating_with_totalRatingCount.query('totalRatingCount >= @popularity_threshold')\n",
        "combined = rating_popular_book.merge(df_books, left_on = 'isbn', right_on = 'isbn', how = 'left')\n",
        "combined = combined.drop_duplicates(['user', 'title'])\n",
        "\n",
        "user_rating = combined.drop_duplicates(['user', 'title'])\n",
        "user_rating_pivot = user_rating.pivot(index = 'title', columns = 'user', values = 'rating').fillna(0)\n",
        "user_rating_matrix = csr_matrix(user_rating_pivot.values)\n",
        "#The model\n",
        "model_knn = NearestNeighbors(metric = 'cosine', algorithm = 'brute')\n",
        "model_knn.fit(user_rating_matrix)\n",
        "#The recommendation\n",
        "query_index = np.random.choice(user_rating_pivot.shape[0])\n",
        "distances, indices = model_knn.kneighbors(user_rating_pivot.iloc[query_index, :].values.reshape(1, -1), n_neighbors = 6)\n",
        "\n",
        "print(f\"Recommendations for {user_rating_pivot.index[query_index]}:\") # Print the book title for which recommendations are generated\n",
        "for i in range(1, len(distances.flatten())): # Start from index 1 to skip the book itself\n",
        "    print(f\"{i}. {user_rating_pivot.index[indices.flatten()[i]]} - Distance: {distances.flatten()[i]:.4f}\") # Print the recommendation with its distance\n"
      ],
      "metadata": {
        "colab": {
          "base_uri": "https://localhost:8080/"
        },
        "collapsed": true,
        "id": "FgAPp7ndL_1N",
        "outputId": "143df7d5-9559-49bd-bd68-f2408c58715c"
      },
      "execution_count": 26,
      "outputs": [
        {
          "output_type": "stream",
          "name": "stdout",
          "text": [
            "Recommendations for Forbidden Fruit:\n",
            "1. Neanderthal: A Novel - Distance: 0.8531\n",
            "2. Impulse - Distance: 0.8554\n",
            "3. The Outsiders - Distance: 0.8617\n",
            "4. Naked in Death - Distance: 0.8678\n",
            "5. The Witness - Distance: 0.8694\n"
          ]
        }
      ]
    },
    {
      "cell_type": "code",
      "source": [
        "# prompt: Create a function named get_recommends that takes a book title (from the dataset) as an argument and returns a list of 5 similar books with their distances from the book argument.\n",
        "\n",
        "def get_recommends(book = \"\"):\n",
        "  recommended_books = []\n",
        "  try:\n",
        "    book_index = user_rating_pivot.index.get_loc(book)\n",
        "  except KeyError as e:\n",
        "    print('The given book', e, 'does not exist')\n",
        "    return recommended_books\n",
        "  distances, indices = model_knn.kneighbors(user_rating_pivot.iloc[book_index, :].values.reshape(1, -1), n_neighbors = 6)\n",
        "  for i in range(1, len(distances.flatten())):\n",
        "      recommended_books.append([user_rating_pivot.index[indices.flatten()[i]], distances.flatten()[i]])\n",
        "  return recommended_books\n"
      ],
      "metadata": {
        "id": "0luW6eaEMnk0"
      },
      "execution_count": 27,
      "outputs": []
    },
    {
      "cell_type": "code",
      "source": [
        "books = get_recommends(\"Where the Heart Is (Oprah's Book Club (Paperback))\")\n",
        "print(books)\n",
        "\n",
        "def test_book_recommendation():\n",
        "  test_pass = True\n",
        "  recommends = get_recommends(\"Where the Heart Is (Oprah's Book Club (Paperback))\")\n",
        "  if recommends[0] != \"Where the Heart Is (Oprah's Book Club (Paperback))\":\n",
        "    test_pass = False\n",
        "  recommended_books = [\"I'll Be Seeing You\", 'The Weight of Water', 'The Surgeon', 'I Know This Much Is True']\n",
        "  recommended_books_dist = [0.8, 0.77, 0.77, 0.77]\n",
        "  for i in range(2):\n",
        "    if recommends[i][0] not in recommended_books:\n",
        "      test_pass = False\n",
        "    if abs(recommends[i][1] - recommended_books_dist[i]) >= 0.05:\n",
        "      test_pass = False\n",
        "  if test_pass:\n",
        "    print(\"You passed the challenge! 🎉🎉🎉🎉🎉\")\n",
        "  else:\n",
        "    print(\"You haven't passed yet. Keep trying!\")\n",
        "\n",
        "test_book_recommendation()"
      ],
      "metadata": {
        "colab": {
          "base_uri": "https://localhost:8080/"
        },
        "id": "mQlydThWN1Qd",
        "outputId": "e78302ae-ddbc-4375-c085-d965f80e3d65"
      },
      "execution_count": 28,
      "outputs": [
        {
          "output_type": "stream",
          "name": "stdout",
          "text": [
            "[['The Lovely Bones: A Novel', 0.90959823], ['Blue Diary', 0.9101138], [\"The Pilot's Wife : A Novel\", 0.9172571], ['I Know This Much Is True', 0.9198669], ['The Weight of Water', 0.9210188]]\n",
            "You haven't passed yet. Keep trying!\n"
          ]
        }
      ]
    }
  ]
}